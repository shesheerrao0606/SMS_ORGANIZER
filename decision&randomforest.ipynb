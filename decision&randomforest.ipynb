{
 "cells": [
  {
   "cell_type": "code",
   "execution_count": 1,
   "metadata": {},
   "outputs": [
    {
     "name": "stderr",
     "output_type": "stream",
     "text": [
      "/home/sasiram/snap/jupyter/common/lib/python3.7/site-packages/joblib/_multiprocessing_helpers.py:45: UserWarning: [Errno 13] Permission denied.  joblib will operate in serial mode\n",
      "  warnings.warn('%s.  joblib will operate in serial mode' % (e,))\n"
     ]
    }
   ],
   "source": [
    "import numpy as np\n",
    "from sklearn.feature_extraction.text import CountVectorizer\n",
    "from collections import Counter\n",
    "from sklearn.model_selection import train_test_split\n",
    "from sklearn.feature_extraction.text import TfidfTransformer\n",
    "import pandas as pd"
   ]
  },
  {
   "cell_type": "code",
   "execution_count": 2,
   "metadata": {},
   "outputs": [],
   "source": [
    "df = pd.read_csv('msgs.csv',encoding='latin1')"
   ]
  },
  {
   "cell_type": "code",
   "execution_count": 3,
   "metadata": {},
   "outputs": [
    {
     "data": {
      "text/plain": [
       "{'promotion': 0, 'otp': 1, 'transaction': 2}"
      ]
     },
     "execution_count": 3,
     "metadata": {},
     "output_type": "execute_result"
    }
   ],
   "source": [
    "counter = Counter(df['Class'].tolist())\n",
    "top_10_varieties = {i[0]: idx for idx, i in enumerate(counter.most_common(3))}\n",
    "df = df[df['Class'].map(lambda x: x in top_10_varieties)]\n",
    "top_10_varieties"
   ]
  },
  {
   "cell_type": "code",
   "execution_count": 4,
   "metadata": {},
   "outputs": [
    {
     "data": {
      "text/plain": [
       "array([2, 0, 1, 0, 0, 2, 0, 1, 0, 0, 1, 1, 0, 2, 0, 0, 1, 2, 0, 1, 2, 2,\n",
       "       0, 0, 1, 0, 1, 0, 0, 0, 0, 1, 1, 0, 0, 0, 1, 0, 1, 1, 0, 0, 0, 0,\n",
       "       0, 1, 0, 0, 1, 0, 1, 0, 0, 0, 0, 1, 1, 0, 0, 1, 0, 1, 1, 0, 1, 0,\n",
       "       0, 0, 1, 2, 2, 2, 1, 2, 1, 2, 1, 2, 1, 2, 2, 1, 2, 2, 2, 2, 2, 2,\n",
       "       2, 2, 2, 2, 1, 1, 1, 1, 1, 1, 1, 1, 1, 1, 1, 1, 2, 2, 2, 2, 2, 2,\n",
       "       2, 2, 2, 2, 2, 2, 2, 1, 1, 1, 1, 0, 0, 0, 2, 0, 0, 0, 0, 0, 2, 1,\n",
       "       2, 0, 0, 0, 0, 0, 1, 0, 0, 0, 0, 0, 2, 0, 0, 0, 1, 0, 1, 0, 0, 0,\n",
       "       0, 0, 0, 1])"
      ]
     },
     "execution_count": 4,
     "metadata": {},
     "output_type": "execute_result"
    }
   ],
   "source": [
    "description_list = df['Category'].tolist()\n",
    "varietal_list = [top_10_varieties[i] for i in df['Class'].tolist()]\n",
    "varietal_list = np.array(varietal_list)\n",
    "varietal_list"
   ]
  },
  {
   "cell_type": "code",
   "execution_count": 5,
   "metadata": {},
   "outputs": [
    {
     "data": {
      "text/plain": [
       "<158x1281 sparse matrix of type '<class 'numpy.int64'>'\n",
       "\twith 3797 stored elements in Compressed Sparse Row format>"
      ]
     },
     "execution_count": 5,
     "metadata": {},
     "output_type": "execute_result"
    }
   ],
   "source": [
    "count_vect = CountVectorizer()\n",
    "x_train_counts = count_vect.fit_transform(description_list)\n",
    "x_train_counts"
   ]
  },
  {
   "cell_type": "code",
   "execution_count": 6,
   "metadata": {},
   "outputs": [],
   "source": [
    "tfidf_transformer = TfidfTransformer()\n",
    "x_train_tfidf = tfidf_transformer.fit_transform(x_train_counts)"
   ]
  },
  {
   "cell_type": "code",
   "execution_count": 7,
   "metadata": {},
   "outputs": [
    {
     "data": {
      "text/plain": [
       "array([2, 2, 0, 0, 0, 1, 1, 2, 0, 1, 0, 0, 0, 0, 2, 0, 2, 2, 0, 2, 1, 2,\n",
       "       1, 1, 2, 0, 1, 2, 0, 1, 0, 2, 2, 1, 2, 1, 0, 2, 0, 1, 2, 0, 0, 0,\n",
       "       1, 2, 0, 1])"
      ]
     },
     "execution_count": 7,
     "metadata": {},
     "output_type": "execute_result"
    }
   ],
   "source": [
    "train_x, test_x, train_y, test_y = train_test_split(x_train_tfidf, varietal_list, test_size=0.3)\n",
    "test_y"
   ]
  },
  {
   "cell_type": "code",
   "execution_count": 8,
   "metadata": {},
   "outputs": [],
   "source": [
    "from sklearn import tree\n",
    "clf = tree.DecisionTreeClassifier()\n",
    "clf = clf.fit(train_x, train_y)"
   ]
  },
  {
   "cell_type": "code",
   "execution_count": 9,
   "metadata": {},
   "outputs": [
    {
     "name": "stdout",
     "output_type": "stream",
     "text": [
      "[2 2 0 0 0 1 1 2 0 1 0 0 0 0 2 0 2 2 0 2 1 2 1 1 2 0 1 2 0 1 0 2 2 1 2 1 0\n",
      " 2 0 1 2 0 0 0 1 2 0 1]\n",
      "[0 0 0 0 0 1 1 2 0 0 0 0 2 0 2 0 0 2 0 2 1 0 1 1 2 0 1 2 2 0 0 0 2 1 2 1 0\n",
      " 2 2 1 2 0 0 0 1 2 0 1]\n",
      "Accuracy of promotion: 84.21%\n",
      "Accuracy of OTP: 84.62%\n",
      "Accuracy of transaction: 68.75%\n",
      "Overall Accuracy: 79.17%\n"
     ]
    }
   ],
   "source": [
    "y_score = clf.predict(test_x)\n",
    "print(test_y)\n",
    "print(y_score)\n",
    "n_0 = 0\n",
    "n0 = 0\n",
    "n_1 = 0\n",
    "n1 = 0\n",
    "n_2 = 0\n",
    "n2 = 0\n",
    "n_right = 0\n",
    "for i in range(len(y_score)):\n",
    "    if test_y[i]==0:\n",
    "        n0+=1;\n",
    "        if y_score[i] == test_y[i]:\n",
    "            n_0 += 1\n",
    "    if test_y[i]==1:\n",
    "        n1+=1;\n",
    "        if y_score[i] == test_y[i]:\n",
    "            n_1 += 1\n",
    "    if test_y[i]==2:\n",
    "        n2+=1;\n",
    "        if y_score[i] == test_y[i]:\n",
    "            n_2 += 1\n",
    "    if y_score[i] == test_y[i]:\n",
    "        n_right += 1\n",
    "print(\"Accuracy of promotion: %.2f%%\" % ((n_0/n0 * 100)))\n",
    "print(\"Accuracy of OTP: %.2f%%\" % ((n_1/n1 * 100)))\n",
    "print(\"Accuracy of transaction: %.2f%%\" % ((n_2/n2 * 100)))\n",
    "print(\"Overall Accuracy: %.2f%%\" % ((n_right/float(len(test_y)) * 100)))"
   ]
  },
  {
   "cell_type": "code",
   "execution_count": 10,
   "metadata": {},
   "outputs": [],
   "source": [
    "from sklearn.ensemble import RandomForestClassifier\n",
    "clf1 = RandomForestClassifier()\n",
    "clf1 = clf1.fit(train_x, train_y)"
   ]
  },
  {
   "cell_type": "code",
   "execution_count": 11,
   "metadata": {},
   "outputs": [],
   "source": [
    "y_score = clf1.predict(test_x)"
   ]
  },
  {
   "cell_type": "code",
   "execution_count": 12,
   "metadata": {},
   "outputs": [
    {
     "name": "stdout",
     "output_type": "stream",
     "text": [
      "Accuracy of promotion: 100.00%\n",
      "Accuracy of OTP: 92.31%\n",
      "Accuracy of transaction: 68.75%\n",
      "Overall Accuracy: 87.50%\n"
     ]
    }
   ],
   "source": [
    "y_score = clf1.predict(test_x)\n",
    "n_0 = 0\n",
    "n0 = 0\n",
    "n_1 = 0\n",
    "n1 = 0\n",
    "n_2 = 0\n",
    "n2 = 0\n",
    "n_right = 0\n",
    "for i in range(len(y_score)):\n",
    "    if test_y[i]==0:\n",
    "        n0+=1;\n",
    "        if y_score[i] == test_y[i]:\n",
    "            n_0 += 1\n",
    "    if test_y[i]==1:\n",
    "        n1+=1;\n",
    "        if y_score[i] == test_y[i]:\n",
    "            n_1 += 1\n",
    "    if test_y[i]==2:\n",
    "        n2+=1;\n",
    "        if y_score[i] == test_y[i]:\n",
    "            n_2 += 1\n",
    "    if y_score[i] == test_y[i]:\n",
    "        n_right += 1\n",
    "print(\"Accuracy of promotion: %.2f%%\" % ((n_0/float(n0) * 100)))\n",
    "print(\"Accuracy of OTP: %.2f%%\" % ((n_1/float(n1) * 100)))\n",
    "print(\"Accuracy of transaction: %.2f%%\" % ((n_2/float(n2) * 100)))\n",
    "print(\"Overall Accuracy: %.2f%%\" % ((n_right/float(len(test_y)) * 100)))"
   ]
  },
  {
   "cell_type": "code",
   "execution_count": null,
   "metadata": {},
   "outputs": [],
   "source": []
  },
  {
   "cell_type": "code",
   "execution_count": null,
   "metadata": {},
   "outputs": [],
   "source": []
  }
 ],
 "metadata": {
  "kernelspec": {
   "display_name": "Python 3",
   "language": "python",
   "name": "python3"
  },
  "language_info": {
   "codemirror_mode": {
    "name": "ipython",
    "version": 3
   },
   "file_extension": ".py",
   "mimetype": "text/x-python",
   "name": "python",
   "nbconvert_exporter": "python",
   "pygments_lexer": "ipython3",
   "version": "3.7.3"
  }
 },
 "nbformat": 4,
 "nbformat_minor": 2
}
