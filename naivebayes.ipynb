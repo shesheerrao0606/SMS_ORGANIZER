{
 "cells": [
  {
   "cell_type": "code",
   "execution_count": 1,
   "metadata": {},
   "outputs": [
    {
     "name": "stderr",
     "output_type": "stream",
     "text": [
      "/home/sasiram/snap/jupyter/common/lib/python3.7/site-packages/joblib/_multiprocessing_helpers.py:45: UserWarning: [Errno 13] Permission denied.  joblib will operate in serial mode\n",
      "  warnings.warn('%s.  joblib will operate in serial mode' % (e,))\n"
     ]
    }
   ],
   "source": [
    "import numpy as np\n",
    "from sklearn.naive_bayes import MultinomialNB\n",
    "from sklearn.feature_extraction.text import CountVectorizer\n",
    "from collections import Counter\n",
    "from sklearn.model_selection import train_test_split\n",
    "from sklearn.feature_extraction.text import TfidfTransformer\n",
    "import pandas as pd"
   ]
  },
  {
   "cell_type": "code",
   "execution_count": 2,
   "metadata": {},
   "outputs": [],
   "source": [
    "df = pd.read_csv('msgs.csv',encoding='latin1')"
   ]
  },
  {
   "cell_type": "code",
   "execution_count": 3,
   "metadata": {},
   "outputs": [
    {
     "data": {
      "text/html": [
       "<div>\n",
       "<style scoped>\n",
       "    .dataframe tbody tr th:only-of-type {\n",
       "        vertical-align: middle;\n",
       "    }\n",
       "\n",
       "    .dataframe tbody tr th {\n",
       "        vertical-align: top;\n",
       "    }\n",
       "\n",
       "    .dataframe thead th {\n",
       "        text-align: right;\n",
       "    }\n",
       "</style>\n",
       "<table border=\"1\" class=\"dataframe\">\n",
       "  <thead>\n",
       "    <tr style=\"text-align: right;\">\n",
       "      <th></th>\n",
       "      <th>Class</th>\n",
       "      <th>Category</th>\n",
       "    </tr>\n",
       "  </thead>\n",
       "  <tbody>\n",
       "    <tr>\n",
       "      <th>0</th>\n",
       "      <td>transaction</td>\n",
       "      <td>Your SIP installment under HDFCMF folio 949181...</td>\n",
       "    </tr>\n",
       "    <tr>\n",
       "      <th>1</th>\n",
       "      <td>promotion</td>\n",
       "      <td>Priye Grahak! Aapke Rs.70 ke rchg ka benefit R...</td>\n",
       "    </tr>\n",
       "    <tr>\n",
       "      <th>2</th>\n",
       "      <td>otp</td>\n",
       "      <td>OTP for transaction of INR 23300.00 on your ca...</td>\n",
       "    </tr>\n",
       "    <tr>\n",
       "      <th>3</th>\n",
       "      <td>promotion</td>\n",
       "      <td>Big Bazaar NCR - Potato/Radish@10/kg Spinach@1...</td>\n",
       "    </tr>\n",
       "    <tr>\n",
       "      <th>4</th>\n",
       "      <td>promotion</td>\n",
       "      <td>Buy Shops PRELEASED with Most Trusted Brand of...</td>\n",
       "    </tr>\n",
       "    <tr>\n",
       "      <th>...</th>\n",
       "      <td>...</td>\n",
       "      <td>...</td>\n",
       "    </tr>\n",
       "    <tr>\n",
       "      <th>155</th>\n",
       "      <td>promotion</td>\n",
       "      <td>Earn 30000 Per Month by Just Investing in Pre ...</td>\n",
       "    </tr>\n",
       "    <tr>\n",
       "      <th>156</th>\n",
       "      <td>promotion</td>\n",
       "      <td>Your Amazon order with Blue Dart Awb# 69970593...</td>\n",
       "    </tr>\n",
       "    <tr>\n",
       "      <th>157</th>\n",
       "      <td>promotion</td>\n",
       "      <td>Pay 5% Now &amp; Get Rs. 12,500/- Per Month Rest o...</td>\n",
       "    </tr>\n",
       "    <tr>\n",
       "      <th>158</th>\n",
       "      <td>promotion</td>\n",
       "      <td>Book your Audi NOW and beat the price hike. Fe...</td>\n",
       "    </tr>\n",
       "    <tr>\n",
       "      <th>159</th>\n",
       "      <td>otp</td>\n",
       "      <td>Dear Customer, 846836 is your one time passwor...</td>\n",
       "    </tr>\n",
       "  </tbody>\n",
       "</table>\n",
       "<p>158 rows × 2 columns</p>\n",
       "</div>"
      ],
      "text/plain": [
       "           Class                                           Category\n",
       "0    transaction  Your SIP installment under HDFCMF folio 949181...\n",
       "1      promotion  Priye Grahak! Aapke Rs.70 ke rchg ka benefit R...\n",
       "2            otp  OTP for transaction of INR 23300.00 on your ca...\n",
       "3      promotion  Big Bazaar NCR - Potato/Radish@10/kg Spinach@1...\n",
       "4      promotion  Buy Shops PRELEASED with Most Trusted Brand of...\n",
       "..           ...                                                ...\n",
       "155    promotion  Earn 30000 Per Month by Just Investing in Pre ...\n",
       "156    promotion  Your Amazon order with Blue Dart Awb# 69970593...\n",
       "157    promotion  Pay 5% Now & Get Rs. 12,500/- Per Month Rest o...\n",
       "158    promotion  Book your Audi NOW and beat the price hike. Fe...\n",
       "159          otp  Dear Customer, 846836 is your one time passwor...\n",
       "\n",
       "[158 rows x 2 columns]"
      ]
     },
     "execution_count": 3,
     "metadata": {},
     "output_type": "execute_result"
    }
   ],
   "source": [
    "counter = Counter(df['Class'].tolist())\n",
    "top_10_varieties = {i[0]: idx for idx, i in enumerate(counter.most_common(3))}\n",
    "df = df[df['Class'].map(lambda x: x in top_10_varieties)]\n",
    "top_10_varieties\n",
    "df"
   ]
  },
  {
   "cell_type": "code",
   "execution_count": 4,
   "metadata": {},
   "outputs": [
    {
     "data": {
      "text/plain": [
       "array([2, 0, 1, 0, 0, 2, 0, 1, 0, 0, 1, 1, 0, 2, 0, 0, 1, 2, 0, 1, 2, 2,\n",
       "       0, 0, 1, 0, 1, 0, 0, 0, 0, 1, 1, 0, 0, 0, 1, 0, 1, 1, 0, 0, 0, 0,\n",
       "       0, 1, 0, 0, 1, 0, 1, 0, 0, 0, 0, 1, 1, 0, 0, 1, 0, 1, 1, 0, 1, 0,\n",
       "       0, 0, 1, 2, 2, 2, 1, 2, 1, 2, 1, 2, 1, 2, 2, 1, 2, 2, 2, 2, 2, 2,\n",
       "       2, 2, 2, 2, 1, 1, 1, 1, 1, 1, 1, 1, 1, 1, 1, 1, 2, 2, 2, 2, 2, 2,\n",
       "       2, 2, 2, 2, 2, 2, 2, 1, 1, 1, 1, 0, 0, 0, 2, 0, 0, 0, 0, 0, 2, 1,\n",
       "       2, 0, 0, 0, 0, 0, 1, 0, 0, 0, 0, 0, 2, 0, 0, 0, 1, 0, 1, 0, 0, 0,\n",
       "       0, 0, 0, 1])"
      ]
     },
     "execution_count": 4,
     "metadata": {},
     "output_type": "execute_result"
    }
   ],
   "source": [
    "description_list = df['Category'].tolist()\n",
    "varietal_list = [top_10_varieties[i] for i in df['Class'].tolist()]\n",
    "varietal_list = np.array(varietal_list)\n",
    "varietal_list"
   ]
  },
  {
   "cell_type": "code",
   "execution_count": 5,
   "metadata": {},
   "outputs": [],
   "source": [
    "count_vect = CountVectorizer()\n",
    "x_train_counts = count_vect.fit_transform(description_list)"
   ]
  },
  {
   "cell_type": "code",
   "execution_count": 6,
   "metadata": {},
   "outputs": [],
   "source": [
    "tfidf_transformer = TfidfTransformer()\n",
    "x_train_tfidf = tfidf_transformer.fit_transform(x_train_counts)"
   ]
  },
  {
   "cell_type": "code",
   "execution_count": 7,
   "metadata": {},
   "outputs": [],
   "source": [
    "train_x, test_x, train_y, test_y = train_test_split(x_train_tfidf, varietal_list, test_size=0.3)"
   ]
  },
  {
   "cell_type": "code",
   "execution_count": 8,
   "metadata": {},
   "outputs": [],
   "source": [
    "clf = MultinomialNB().fit(train_x, train_y)\n",
    "y_score = clf.predict(test_x)"
   ]
  },
  {
   "cell_type": "code",
   "execution_count": 9,
   "metadata": {},
   "outputs": [
    {
     "name": "stdout",
     "output_type": "stream",
     "text": [
      "Accuracy of promotion: 100.00%\n",
      "Accuracy of OTP: 100.00%\n",
      "Accuracy of transaction: 70.59%\n",
      "Overall Accuracy: 89.58%\n"
     ]
    }
   ],
   "source": [
    "n_0 = 0\n",
    "n0 = 0\n",
    "n_1 = 0\n",
    "n1 = 0\n",
    "n_2 = 0\n",
    "n2 = 0\n",
    "n_right = 0\n",
    "for i in range(len(y_score)):\n",
    "    if test_y[i]==0:\n",
    "        n0+=1;\n",
    "        if y_score[i] == test_y[i]:\n",
    "            n_0 += 1\n",
    "    if test_y[i]==1:\n",
    "        n1+=1;\n",
    "        if y_score[i] == test_y[i]:\n",
    "            n_1 += 1\n",
    "    if test_y[i]==2:\n",
    "        n2+=1;\n",
    "        if y_score[i] == test_y[i]:\n",
    "            n_2 += 1\n",
    "    if y_score[i] == test_y[i]:\n",
    "        n_right += 1\n",
    "print(\"Accuracy of promotion: %.2f%%\" % ((n_0/n0 * 100)))\n",
    "print(\"Accuracy of OTP: %.2f%%\" % ((n_1/n1 * 100)))\n",
    "print(\"Accuracy of transaction: %.2f%%\" % ((n_2/n2 * 100)))\n",
    "print(\"Overall Accuracy: %.2f%%\" % ((n_right/float(len(test_y)) * 100)))"
   ]
  },
  {
   "cell_type": "code",
   "execution_count": null,
   "metadata": {},
   "outputs": [],
   "source": []
  },
  {
   "cell_type": "code",
   "execution_count": null,
   "metadata": {},
   "outputs": [],
   "source": []
  },
  {
   "cell_type": "code",
   "execution_count": null,
   "metadata": {},
   "outputs": [],
   "source": []
  }
 ],
 "metadata": {
  "kernelspec": {
   "display_name": "Python 3",
   "language": "python",
   "name": "python3"
  },
  "language_info": {
   "codemirror_mode": {
    "name": "ipython",
    "version": 3
   },
   "file_extension": ".py",
   "mimetype": "text/x-python",
   "name": "python",
   "nbconvert_exporter": "python",
   "pygments_lexer": "ipython3",
   "version": "3.7.3"
  }
 },
 "nbformat": 4,
 "nbformat_minor": 2
}
